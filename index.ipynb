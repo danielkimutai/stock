{
 "cells": [
  {
   "cell_type": "markdown",
   "metadata": {},
   "source": [
    "### An Analysis of  Germany Dax 40 Futures "
   ]
  },
  {
   "cell_type": "markdown",
   "metadata": {},
   "source": [
    "### Data Understanding \n",
    "##### This steps involves collecting the data  and understanding the structure of the data "
   ]
  },
  {
   "cell_type": "code",
   "execution_count": 21,
   "metadata": {},
   "outputs": [],
   "source": [
    "## importing various libraries that will aid in collecting data \n",
    "\n",
    "## importing investpy library that will pull data  from investing.com\n",
    "\n",
    "import investpy as inv\n",
    "import pandas as pd \n",
    "import seaborn as sns"
   ]
  },
  {
   "cell_type": "code",
   "execution_count": 6,
   "metadata": {},
   "outputs": [
    {
     "name": "stdout",
     "output_type": "stream",
     "text": [
      "                Open      High       Low     Close    Volume Currency  Change\n",
      "Date                                                                         \n",
      "2019-01-02  10477.77  10612.72  10386.97  10580.19  82089000      EUR     NaN\n",
      "2019-01-03  10467.11  10538.66  10400.11  10416.66  87354000      EUR   -1.55\n",
      "2019-01-04  10533.94  10786.34  10483.90  10767.69  98288000      EUR    3.37\n",
      "2019-01-07  10814.39  10814.47  10681.27  10747.81  73352000      EUR   -0.18\n",
      "2019-01-08  10750.19  10910.71  10745.03  10803.98  96569000      EUR    0.52\n"
     ]
    }
   ],
   "source": [
    "\n",
    "# Retrieve historical data for the DAX index\n",
    "df = inv.get_index_historical_data(index='DAX', country='germany', from_date='01/01/2019', to_date='12/04/2024')\n",
    "\n",
    "# Calculate percentage change\n",
    "df['Change'] = round(df['Close'].pct_change() * 100,2)\n",
    "\n",
    "print(df.head())\n",
    "\n"
   ]
  },
  {
   "cell_type": "code",
   "execution_count": null,
   "metadata": {},
   "outputs": [],
   "source": []
  },
  {
   "cell_type": "code",
   "execution_count": 7,
   "metadata": {},
   "outputs": [
    {
     "data": {
      "text/plain": [
       "Index(['Open', 'High', 'Low', 'Close', 'Volume', 'Currency', 'Change'], dtype='object')"
      ]
     },
     "execution_count": 7,
     "metadata": {},
     "output_type": "execute_result"
    }
   ],
   "source": [
    "## listing the  number of columns \n",
    "df.columns"
   ]
  },
  {
   "cell_type": "code",
   "execution_count": 8,
   "metadata": {},
   "outputs": [
    {
     "data": {
      "text/html": [
       "<div>\n",
       "<style scoped>\n",
       "    .dataframe tbody tr th:only-of-type {\n",
       "        vertical-align: middle;\n",
       "    }\n",
       "\n",
       "    .dataframe tbody tr th {\n",
       "        vertical-align: top;\n",
       "    }\n",
       "\n",
       "    .dataframe thead th {\n",
       "        text-align: right;\n",
       "    }\n",
       "</style>\n",
       "<table border=\"1\" class=\"dataframe\">\n",
       "  <thead>\n",
       "    <tr style=\"text-align: right;\">\n",
       "      <th></th>\n",
       "      <th>Open</th>\n",
       "      <th>High</th>\n",
       "      <th>Low</th>\n",
       "      <th>Close</th>\n",
       "      <th>Volume</th>\n",
       "      <th>Currency</th>\n",
       "      <th>Change</th>\n",
       "    </tr>\n",
       "    <tr>\n",
       "      <th>Date</th>\n",
       "      <th></th>\n",
       "      <th></th>\n",
       "      <th></th>\n",
       "      <th></th>\n",
       "      <th></th>\n",
       "      <th></th>\n",
       "      <th></th>\n",
       "    </tr>\n",
       "  </thead>\n",
       "  <tbody>\n",
       "    <tr>\n",
       "      <th>2019-01-02</th>\n",
       "      <td>10477.77</td>\n",
       "      <td>10612.72</td>\n",
       "      <td>10386.97</td>\n",
       "      <td>10580.19</td>\n",
       "      <td>82089000</td>\n",
       "      <td>EUR</td>\n",
       "      <td>NaN</td>\n",
       "    </tr>\n",
       "    <tr>\n",
       "      <th>2019-01-03</th>\n",
       "      <td>10467.11</td>\n",
       "      <td>10538.66</td>\n",
       "      <td>10400.11</td>\n",
       "      <td>10416.66</td>\n",
       "      <td>87354000</td>\n",
       "      <td>EUR</td>\n",
       "      <td>-1.55</td>\n",
       "    </tr>\n",
       "    <tr>\n",
       "      <th>2019-01-04</th>\n",
       "      <td>10533.94</td>\n",
       "      <td>10786.34</td>\n",
       "      <td>10483.90</td>\n",
       "      <td>10767.69</td>\n",
       "      <td>98288000</td>\n",
       "      <td>EUR</td>\n",
       "      <td>3.37</td>\n",
       "    </tr>\n",
       "    <tr>\n",
       "      <th>2019-01-07</th>\n",
       "      <td>10814.39</td>\n",
       "      <td>10814.47</td>\n",
       "      <td>10681.27</td>\n",
       "      <td>10747.81</td>\n",
       "      <td>73352000</td>\n",
       "      <td>EUR</td>\n",
       "      <td>-0.18</td>\n",
       "    </tr>\n",
       "    <tr>\n",
       "      <th>2019-01-08</th>\n",
       "      <td>10750.19</td>\n",
       "      <td>10910.71</td>\n",
       "      <td>10745.03</td>\n",
       "      <td>10803.98</td>\n",
       "      <td>96569000</td>\n",
       "      <td>EUR</td>\n",
       "      <td>0.52</td>\n",
       "    </tr>\n",
       "  </tbody>\n",
       "</table>\n",
       "</div>"
      ],
      "text/plain": [
       "                Open      High       Low     Close    Volume Currency  Change\n",
       "Date                                                                         \n",
       "2019-01-02  10477.77  10612.72  10386.97  10580.19  82089000      EUR     NaN\n",
       "2019-01-03  10467.11  10538.66  10400.11  10416.66  87354000      EUR   -1.55\n",
       "2019-01-04  10533.94  10786.34  10483.90  10767.69  98288000      EUR    3.37\n",
       "2019-01-07  10814.39  10814.47  10681.27  10747.81  73352000      EUR   -0.18\n",
       "2019-01-08  10750.19  10910.71  10745.03  10803.98  96569000      EUR    0.52"
      ]
     },
     "execution_count": 8,
     "metadata": {},
     "output_type": "execute_result"
    }
   ],
   "source": [
    "### checking the top 5 rows \n",
    "df.head()"
   ]
  },
  {
   "cell_type": "code",
   "execution_count": 9,
   "metadata": {},
   "outputs": [
    {
     "name": "stdout",
     "output_type": "stream",
     "text": [
      "Our data contains 1344 rows and 7 columns\n"
     ]
    }
   ],
   "source": [
    "## understanding the shape of our data\n",
    "print(f\"Our data contains {df.shape[0]} rows and {df.shape[1]} columns\")"
   ]
  },
  {
   "cell_type": "code",
   "execution_count": 10,
   "metadata": {},
   "outputs": [
    {
     "name": "stdout",
     "output_type": "stream",
     "text": [
      "<class 'pandas.core.frame.DataFrame'>\n",
      "DatetimeIndex: 1344 entries, 2019-01-02 to 2024-04-12\n",
      "Data columns (total 7 columns):\n",
      " #   Column    Non-Null Count  Dtype  \n",
      "---  ------    --------------  -----  \n",
      " 0   Open      1344 non-null   float64\n",
      " 1   High      1344 non-null   float64\n",
      " 2   Low       1344 non-null   float64\n",
      " 3   Close     1344 non-null   float64\n",
      " 4   Volume    1344 non-null   int64  \n",
      " 5   Currency  1344 non-null   object \n",
      " 6   Change    1343 non-null   float64\n",
      "dtypes: float64(5), int64(1), object(1)\n",
      "memory usage: 84.0+ KB\n"
     ]
    }
   ],
   "source": [
    "# checking the details/info of all our columns\n",
    "df.info()"
   ]
  },
  {
   "cell_type": "markdown",
   "metadata": {},
   "source": [
    "### From the data understanding we can conclude that :\n",
    "\n",
    "##### 1.Our data contains 7 columns and 1344 rows \n",
    "##### 2. We have 3 different data types that is integer, float64 and object\n",
    "\n",
    "\n",
    "### Data Quality Issues :\n",
    "##### 1.Our data has one missing value\n",
    "##### 2.The date column is not  been recognized as a column\n",
    "##### 3.We will also have  to add the month ,day  column  using code as our API - libary did not allow us to add them from the data source\n",
    "\n",
    "\n",
    "\n",
    "### How to improve the data quality issue :\n",
    "##### 1.Replacing the missing values\n",
    "##### 2.Resetting our index so that the dates can be recognized as columns\n",
    "\n",
    "\n",
    "### Is there any data restructing to be done ? Yes \n",
    "#### 1.Adding  the day and Month Column"
   ]
  },
  {
   "cell_type": "markdown",
   "metadata": {},
   "source": [
    "## Data Cleaning "
   ]
  },
  {
   "cell_type": "code",
   "execution_count": 11,
   "metadata": {},
   "outputs": [],
   "source": [
    "# reseting the index so that the dates can well corrected \n",
    "\n",
    "df.reset_index(inplace=True)"
   ]
  },
  {
   "cell_type": "code",
   "execution_count": 12,
   "metadata": {},
   "outputs": [
    {
     "data": {
      "text/html": [
       "<div>\n",
       "<style scoped>\n",
       "    .dataframe tbody tr th:only-of-type {\n",
       "        vertical-align: middle;\n",
       "    }\n",
       "\n",
       "    .dataframe tbody tr th {\n",
       "        vertical-align: top;\n",
       "    }\n",
       "\n",
       "    .dataframe thead th {\n",
       "        text-align: right;\n",
       "    }\n",
       "</style>\n",
       "<table border=\"1\" class=\"dataframe\">\n",
       "  <thead>\n",
       "    <tr style=\"text-align: right;\">\n",
       "      <th></th>\n",
       "      <th>Date</th>\n",
       "      <th>Open</th>\n",
       "      <th>High</th>\n",
       "      <th>Low</th>\n",
       "      <th>Close</th>\n",
       "      <th>Volume</th>\n",
       "      <th>Currency</th>\n",
       "      <th>Change</th>\n",
       "    </tr>\n",
       "  </thead>\n",
       "  <tbody>\n",
       "    <tr>\n",
       "      <th>0</th>\n",
       "      <td>2019-01-02</td>\n",
       "      <td>10477.77</td>\n",
       "      <td>10612.72</td>\n",
       "      <td>10386.97</td>\n",
       "      <td>10580.19</td>\n",
       "      <td>82089000</td>\n",
       "      <td>EUR</td>\n",
       "      <td>NaN</td>\n",
       "    </tr>\n",
       "    <tr>\n",
       "      <th>1</th>\n",
       "      <td>2019-01-03</td>\n",
       "      <td>10467.11</td>\n",
       "      <td>10538.66</td>\n",
       "      <td>10400.11</td>\n",
       "      <td>10416.66</td>\n",
       "      <td>87354000</td>\n",
       "      <td>EUR</td>\n",
       "      <td>-1.55</td>\n",
       "    </tr>\n",
       "    <tr>\n",
       "      <th>2</th>\n",
       "      <td>2019-01-04</td>\n",
       "      <td>10533.94</td>\n",
       "      <td>10786.34</td>\n",
       "      <td>10483.90</td>\n",
       "      <td>10767.69</td>\n",
       "      <td>98288000</td>\n",
       "      <td>EUR</td>\n",
       "      <td>3.37</td>\n",
       "    </tr>\n",
       "    <tr>\n",
       "      <th>3</th>\n",
       "      <td>2019-01-07</td>\n",
       "      <td>10814.39</td>\n",
       "      <td>10814.47</td>\n",
       "      <td>10681.27</td>\n",
       "      <td>10747.81</td>\n",
       "      <td>73352000</td>\n",
       "      <td>EUR</td>\n",
       "      <td>-0.18</td>\n",
       "    </tr>\n",
       "    <tr>\n",
       "      <th>4</th>\n",
       "      <td>2019-01-08</td>\n",
       "      <td>10750.19</td>\n",
       "      <td>10910.71</td>\n",
       "      <td>10745.03</td>\n",
       "      <td>10803.98</td>\n",
       "      <td>96569000</td>\n",
       "      <td>EUR</td>\n",
       "      <td>0.52</td>\n",
       "    </tr>\n",
       "  </tbody>\n",
       "</table>\n",
       "</div>"
      ],
      "text/plain": [
       "        Date      Open      High       Low     Close    Volume Currency  \\\n",
       "0 2019-01-02  10477.77  10612.72  10386.97  10580.19  82089000      EUR   \n",
       "1 2019-01-03  10467.11  10538.66  10400.11  10416.66  87354000      EUR   \n",
       "2 2019-01-04  10533.94  10786.34  10483.90  10767.69  98288000      EUR   \n",
       "3 2019-01-07  10814.39  10814.47  10681.27  10747.81  73352000      EUR   \n",
       "4 2019-01-08  10750.19  10910.71  10745.03  10803.98  96569000      EUR   \n",
       "\n",
       "   Change  \n",
       "0     NaN  \n",
       "1   -1.55  \n",
       "2    3.37  \n",
       "3   -0.18  \n",
       "4    0.52  "
      ]
     },
     "execution_count": 12,
     "metadata": {},
     "output_type": "execute_result"
    }
   ],
   "source": [
    "# confirming if the index has be reset\n",
    "df.head()"
   ]
  },
  {
   "cell_type": "code",
   "execution_count": 13,
   "metadata": {},
   "outputs": [
    {
     "data": {
      "text/plain": [
       "Date        0\n",
       "Open        0\n",
       "High        0\n",
       "Low         0\n",
       "Close       0\n",
       "Volume      0\n",
       "Currency    0\n",
       "Change      1\n",
       "dtype: int64"
      ]
     },
     "execution_count": 13,
     "metadata": {},
     "output_type": "execute_result"
    }
   ],
   "source": [
    "# replacing  the missing values \n",
    "df.isna().sum()"
   ]
  },
  {
   "cell_type": "code",
   "execution_count": 14,
   "metadata": {},
   "outputs": [
    {
     "data": {
      "text/html": [
       "<div>\n",
       "<style scoped>\n",
       "    .dataframe tbody tr th:only-of-type {\n",
       "        vertical-align: middle;\n",
       "    }\n",
       "\n",
       "    .dataframe tbody tr th {\n",
       "        vertical-align: top;\n",
       "    }\n",
       "\n",
       "    .dataframe thead th {\n",
       "        text-align: right;\n",
       "    }\n",
       "</style>\n",
       "<table border=\"1\" class=\"dataframe\">\n",
       "  <thead>\n",
       "    <tr style=\"text-align: right;\">\n",
       "      <th></th>\n",
       "      <th>Date</th>\n",
       "      <th>Open</th>\n",
       "      <th>High</th>\n",
       "      <th>Low</th>\n",
       "      <th>Close</th>\n",
       "      <th>Volume</th>\n",
       "      <th>Currency</th>\n",
       "      <th>Change</th>\n",
       "    </tr>\n",
       "  </thead>\n",
       "  <tbody>\n",
       "    <tr>\n",
       "      <th>0</th>\n",
       "      <td>2019-01-02</td>\n",
       "      <td>10477.77</td>\n",
       "      <td>10612.72</td>\n",
       "      <td>10386.97</td>\n",
       "      <td>10580.19</td>\n",
       "      <td>82089000</td>\n",
       "      <td>EUR</td>\n",
       "      <td>0.047677</td>\n",
       "    </tr>\n",
       "    <tr>\n",
       "      <th>1</th>\n",
       "      <td>2019-01-03</td>\n",
       "      <td>10467.11</td>\n",
       "      <td>10538.66</td>\n",
       "      <td>10400.11</td>\n",
       "      <td>10416.66</td>\n",
       "      <td>87354000</td>\n",
       "      <td>EUR</td>\n",
       "      <td>-1.550000</td>\n",
       "    </tr>\n",
       "    <tr>\n",
       "      <th>2</th>\n",
       "      <td>2019-01-04</td>\n",
       "      <td>10533.94</td>\n",
       "      <td>10786.34</td>\n",
       "      <td>10483.90</td>\n",
       "      <td>10767.69</td>\n",
       "      <td>98288000</td>\n",
       "      <td>EUR</td>\n",
       "      <td>3.370000</td>\n",
       "    </tr>\n",
       "    <tr>\n",
       "      <th>3</th>\n",
       "      <td>2019-01-07</td>\n",
       "      <td>10814.39</td>\n",
       "      <td>10814.47</td>\n",
       "      <td>10681.27</td>\n",
       "      <td>10747.81</td>\n",
       "      <td>73352000</td>\n",
       "      <td>EUR</td>\n",
       "      <td>-0.180000</td>\n",
       "    </tr>\n",
       "    <tr>\n",
       "      <th>4</th>\n",
       "      <td>2019-01-08</td>\n",
       "      <td>10750.19</td>\n",
       "      <td>10910.71</td>\n",
       "      <td>10745.03</td>\n",
       "      <td>10803.98</td>\n",
       "      <td>96569000</td>\n",
       "      <td>EUR</td>\n",
       "      <td>0.520000</td>\n",
       "    </tr>\n",
       "    <tr>\n",
       "      <th>...</th>\n",
       "      <td>...</td>\n",
       "      <td>...</td>\n",
       "      <td>...</td>\n",
       "      <td>...</td>\n",
       "      <td>...</td>\n",
       "      <td>...</td>\n",
       "      <td>...</td>\n",
       "      <td>...</td>\n",
       "    </tr>\n",
       "    <tr>\n",
       "      <th>1339</th>\n",
       "      <td>2024-04-08</td>\n",
       "      <td>18163.39</td>\n",
       "      <td>18326.37</td>\n",
       "      <td>18163.39</td>\n",
       "      <td>18318.97</td>\n",
       "      <td>61073600</td>\n",
       "      <td>EUR</td>\n",
       "      <td>0.790000</td>\n",
       "    </tr>\n",
       "    <tr>\n",
       "      <th>1340</th>\n",
       "      <td>2024-04-09</td>\n",
       "      <td>18318.40</td>\n",
       "      <td>18318.51</td>\n",
       "      <td>18058.22</td>\n",
       "      <td>18076.69</td>\n",
       "      <td>65276400</td>\n",
       "      <td>EUR</td>\n",
       "      <td>-1.320000</td>\n",
       "    </tr>\n",
       "    <tr>\n",
       "      <th>1341</th>\n",
       "      <td>2024-04-10</td>\n",
       "      <td>18078.89</td>\n",
       "      <td>18239.50</td>\n",
       "      <td>17975.84</td>\n",
       "      <td>18097.30</td>\n",
       "      <td>83348200</td>\n",
       "      <td>EUR</td>\n",
       "      <td>0.110000</td>\n",
       "    </tr>\n",
       "    <tr>\n",
       "      <th>1342</th>\n",
       "      <td>2024-04-11</td>\n",
       "      <td>18096.51</td>\n",
       "      <td>18101.31</td>\n",
       "      <td>17864.69</td>\n",
       "      <td>17954.48</td>\n",
       "      <td>84365104</td>\n",
       "      <td>EUR</td>\n",
       "      <td>-0.790000</td>\n",
       "    </tr>\n",
       "    <tr>\n",
       "      <th>1343</th>\n",
       "      <td>2024-04-12</td>\n",
       "      <td>17965.95</td>\n",
       "      <td>18162.56</td>\n",
       "      <td>17860.73</td>\n",
       "      <td>17930.32</td>\n",
       "      <td>78993904</td>\n",
       "      <td>EUR</td>\n",
       "      <td>-0.130000</td>\n",
       "    </tr>\n",
       "  </tbody>\n",
       "</table>\n",
       "<p>1344 rows × 8 columns</p>\n",
       "</div>"
      ],
      "text/plain": [
       "           Date      Open      High       Low     Close    Volume Currency  \\\n",
       "0    2019-01-02  10477.77  10612.72  10386.97  10580.19  82089000      EUR   \n",
       "1    2019-01-03  10467.11  10538.66  10400.11  10416.66  87354000      EUR   \n",
       "2    2019-01-04  10533.94  10786.34  10483.90  10767.69  98288000      EUR   \n",
       "3    2019-01-07  10814.39  10814.47  10681.27  10747.81  73352000      EUR   \n",
       "4    2019-01-08  10750.19  10910.71  10745.03  10803.98  96569000      EUR   \n",
       "...         ...       ...       ...       ...       ...       ...      ...   \n",
       "1339 2024-04-08  18163.39  18326.37  18163.39  18318.97  61073600      EUR   \n",
       "1340 2024-04-09  18318.40  18318.51  18058.22  18076.69  65276400      EUR   \n",
       "1341 2024-04-10  18078.89  18239.50  17975.84  18097.30  83348200      EUR   \n",
       "1342 2024-04-11  18096.51  18101.31  17864.69  17954.48  84365104      EUR   \n",
       "1343 2024-04-12  17965.95  18162.56  17860.73  17930.32  78993904      EUR   \n",
       "\n",
       "        Change  \n",
       "0     0.047677  \n",
       "1    -1.550000  \n",
       "2     3.370000  \n",
       "3    -0.180000  \n",
       "4     0.520000  \n",
       "...        ...  \n",
       "1339  0.790000  \n",
       "1340 -1.320000  \n",
       "1341  0.110000  \n",
       "1342 -0.790000  \n",
       "1343 -0.130000  \n",
       "\n",
       "[1344 rows x 8 columns]"
      ]
     },
     "execution_count": 14,
     "metadata": {},
     "output_type": "execute_result"
    }
   ],
   "source": [
    "#filling the missing values with the mean\n",
    "df.fillna(value = df[\"Change\"].mean())"
   ]
  },
  {
   "cell_type": "code",
   "execution_count": 15,
   "metadata": {},
   "outputs": [
    {
     "name": "stdout",
     "output_type": "stream",
     "text": [
      "<class 'pandas.core.frame.DataFrame'>\n",
      "RangeIndex: 1344 entries, 0 to 1343\n",
      "Data columns (total 8 columns):\n",
      " #   Column    Non-Null Count  Dtype         \n",
      "---  ------    --------------  -----         \n",
      " 0   Date      1344 non-null   datetime64[ns]\n",
      " 1   Open      1344 non-null   float64       \n",
      " 2   High      1344 non-null   float64       \n",
      " 3   Low       1344 non-null   float64       \n",
      " 4   Close     1344 non-null   float64       \n",
      " 5   Volume    1344 non-null   int64         \n",
      " 6   Currency  1344 non-null   object        \n",
      " 7   Change    1343 non-null   float64       \n",
      "dtypes: datetime64[ns](1), float64(5), int64(1), object(1)\n",
      "memory usage: 84.1+ KB\n"
     ]
    }
   ],
   "source": [
    "df.info()"
   ]
  },
  {
   "cell_type": "code",
   "execution_count": 16,
   "metadata": {},
   "outputs": [],
   "source": [
    "# Convert the \"Date\" column to datetime format if it's not already in datetime format\n",
    "df['Date'] = pd.to_datetime(df['Date'])\n",
    "\n",
    "# getting the day from the  date column\n",
    "df[\"day\"] = df[\"Date\"].dt.day_name()\n",
    "\n",
    "# getting the month from the month column\n",
    "df[\"month\"] = df[\"Date\"].dt.month_name()"
   ]
  },
  {
   "cell_type": "code",
   "execution_count": 17,
   "metadata": {},
   "outputs": [
    {
     "data": {
      "text/html": [
       "<div>\n",
       "<style scoped>\n",
       "    .dataframe tbody tr th:only-of-type {\n",
       "        vertical-align: middle;\n",
       "    }\n",
       "\n",
       "    .dataframe tbody tr th {\n",
       "        vertical-align: top;\n",
       "    }\n",
       "\n",
       "    .dataframe thead th {\n",
       "        text-align: right;\n",
       "    }\n",
       "</style>\n",
       "<table border=\"1\" class=\"dataframe\">\n",
       "  <thead>\n",
       "    <tr style=\"text-align: right;\">\n",
       "      <th></th>\n",
       "      <th>Date</th>\n",
       "      <th>Open</th>\n",
       "      <th>High</th>\n",
       "      <th>Low</th>\n",
       "      <th>Close</th>\n",
       "      <th>Volume</th>\n",
       "      <th>Currency</th>\n",
       "      <th>Change</th>\n",
       "      <th>day</th>\n",
       "      <th>month</th>\n",
       "    </tr>\n",
       "  </thead>\n",
       "  <tbody>\n",
       "    <tr>\n",
       "      <th>0</th>\n",
       "      <td>2019-01-02</td>\n",
       "      <td>10477.77</td>\n",
       "      <td>10612.72</td>\n",
       "      <td>10386.97</td>\n",
       "      <td>10580.19</td>\n",
       "      <td>82089000</td>\n",
       "      <td>EUR</td>\n",
       "      <td>NaN</td>\n",
       "      <td>Wednesday</td>\n",
       "      <td>January</td>\n",
       "    </tr>\n",
       "    <tr>\n",
       "      <th>1</th>\n",
       "      <td>2019-01-03</td>\n",
       "      <td>10467.11</td>\n",
       "      <td>10538.66</td>\n",
       "      <td>10400.11</td>\n",
       "      <td>10416.66</td>\n",
       "      <td>87354000</td>\n",
       "      <td>EUR</td>\n",
       "      <td>-1.55</td>\n",
       "      <td>Thursday</td>\n",
       "      <td>January</td>\n",
       "    </tr>\n",
       "    <tr>\n",
       "      <th>2</th>\n",
       "      <td>2019-01-04</td>\n",
       "      <td>10533.94</td>\n",
       "      <td>10786.34</td>\n",
       "      <td>10483.90</td>\n",
       "      <td>10767.69</td>\n",
       "      <td>98288000</td>\n",
       "      <td>EUR</td>\n",
       "      <td>3.37</td>\n",
       "      <td>Friday</td>\n",
       "      <td>January</td>\n",
       "    </tr>\n",
       "    <tr>\n",
       "      <th>3</th>\n",
       "      <td>2019-01-07</td>\n",
       "      <td>10814.39</td>\n",
       "      <td>10814.47</td>\n",
       "      <td>10681.27</td>\n",
       "      <td>10747.81</td>\n",
       "      <td>73352000</td>\n",
       "      <td>EUR</td>\n",
       "      <td>-0.18</td>\n",
       "      <td>Monday</td>\n",
       "      <td>January</td>\n",
       "    </tr>\n",
       "    <tr>\n",
       "      <th>4</th>\n",
       "      <td>2019-01-08</td>\n",
       "      <td>10750.19</td>\n",
       "      <td>10910.71</td>\n",
       "      <td>10745.03</td>\n",
       "      <td>10803.98</td>\n",
       "      <td>96569000</td>\n",
       "      <td>EUR</td>\n",
       "      <td>0.52</td>\n",
       "      <td>Tuesday</td>\n",
       "      <td>January</td>\n",
       "    </tr>\n",
       "  </tbody>\n",
       "</table>\n",
       "</div>"
      ],
      "text/plain": [
       "        Date      Open      High       Low     Close    Volume Currency  \\\n",
       "0 2019-01-02  10477.77  10612.72  10386.97  10580.19  82089000      EUR   \n",
       "1 2019-01-03  10467.11  10538.66  10400.11  10416.66  87354000      EUR   \n",
       "2 2019-01-04  10533.94  10786.34  10483.90  10767.69  98288000      EUR   \n",
       "3 2019-01-07  10814.39  10814.47  10681.27  10747.81  73352000      EUR   \n",
       "4 2019-01-08  10750.19  10910.71  10745.03  10803.98  96569000      EUR   \n",
       "\n",
       "   Change        day    month  \n",
       "0     NaN  Wednesday  January  \n",
       "1   -1.55   Thursday  January  \n",
       "2    3.37     Friday  January  \n",
       "3   -0.18     Monday  January  \n",
       "4    0.52    Tuesday  January  "
      ]
     },
     "execution_count": 17,
     "metadata": {},
     "output_type": "execute_result"
    }
   ],
   "source": [
    "# checking if the  the day and month have been added \n",
    "df.head()"
   ]
  },
  {
   "cell_type": "markdown",
   "metadata": {},
   "source": [
    "## Exploratory Data Analysis\n",
    "\n",
    "### Here we will explore/analyze data to gain insights and better understanding "
   ]
  },
  {
   "cell_type": "markdown",
   "metadata": {},
   "source": [
    "#### Statistical Analysis ,\n"
   ]
  },
  {
   "cell_type": "code",
   "execution_count": 20,
   "metadata": {},
   "outputs": [
    {
     "name": "stdout",
     "output_type": "stream",
     "text": [
      "Dax Analysis:\n",
      "Max price:18567.16\n",
      "Min Price:8255.65\n",
      "avg_price:14036.31\n",
      "total_volume:107329552768.00\n"
     ]
    }
   ],
   "source": [
    "# writing a function that get min ,max ,mean() and total trading volume\n",
    "max_price = df[\"High\"].max()\n",
    "min_price = df[\"Low\"].min()\n",
    "avg_price = df[\"Close\"].mean()\n",
    "total_volume = df[\"Volume\"].sum()\n",
    "\n",
    "print(\"Dax Analysis:\")\n",
    "print(f\"Max price:{max_price:.2f}\")\n",
    "print(f\"Min Price:{min_price:.2f}\")\n",
    "print(f'avg_price:{avg_price:.2f}')\n",
    "print(f'total_volume:{total_volume:.2f}')"
   ]
  },
  {
   "cell_type": "markdown",
   "metadata": {},
   "source": [
    "# Univariate Analysis"
   ]
  },
  {
   "cell_type": "code",
   "execution_count": null,
   "metadata": {},
   "outputs": [],
   "source": []
  },
  {
   "cell_type": "code",
   "execution_count": null,
   "metadata": {},
   "outputs": [],
   "source": []
  }
 ],
 "metadata": {
  "kernelspec": {
   "display_name": "dan",
   "language": "python",
   "name": "python3"
  },
  "language_info": {
   "codemirror_mode": {
    "name": "ipython",
    "version": 3
   },
   "file_extension": ".py",
   "mimetype": "text/x-python",
   "name": "python",
   "nbconvert_exporter": "python",
   "pygments_lexer": "ipython3",
   "version": "3.12.1"
  }
 },
 "nbformat": 4,
 "nbformat_minor": 2
}
